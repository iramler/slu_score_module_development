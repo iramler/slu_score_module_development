{
  "nbformat": 4,
  "nbformat_minor": 0,
  "metadata": {
    "colab": {
      "provenance": []
    },
    "kernelspec": {
      "name": "python3",
      "display_name": "Python 3"
    },
    "language_info": {
      "name": "python"
    }
  },
  "cells": [
    {
      "cell_type": "markdown",
      "source": [
        "# Introduction\n",
        "The Professional Woman’s Hockey League (PWHL) began its inaugural season in 2023-24. The league has players from 11 different countries. The league looks to expand its exposure and gain new fans for the future of the sport.\\\n",
        "We will be investigating the player statistics from the league’s inaugural season. Our focus will be on all players including goalies which includes 147 athletes. We want to discover which age groups and positions have had the most impact on the number of points scored per game by each player. A player is credited with one point for either a goal or an assist. Each position has a different role in contributing to the team. In general, the main goal of the forwards is to stay in three different lanes across the ice, moving the puck between them to make the opposing goalie move and open scoring opportunities. The defensive players compliment the forwards by positioning themselves along the boundary of the offensive zone to prevent the opposing team from moving the puck away from the zone and provide more opportunities for the forwards to score. The goalie’s focus is to guard their team’s goal by positioning themselves in front of it to prevent the opposing team from scoring. The different age groups represent a blend of experience and athleticism at a point in the player’s career. More experience should help the player score more goals because they would have more knowledge of the game and ideas on how to score. However, more experience comes with more aging and players with more experience may be past their years of peak athleticism. That is why our goal is to find if there is a perfect blend between the two (i.e. an ideal age and position group), while keeping in mind that the older players may not be representative of all players who enter the league. Consider this definition of \"survivorship bias\": https://thedecisionlab.com/biases/survivorship-bias\n"
      ],
      "metadata": {
        "id": "4RrAuSFNw15u"
      }
    },
    {
      "cell_type": "markdown",
      "source": [
        "# Data Description\n",
        "PWHL_Final - Name of the data set\n",
        "\n",
        "P_Per_GP - Number of points scored by the player per game played (Goals + Assists)\n",
        "\n",
        "Pos – Position of the player (either Defense (D), Forward (F), or Goalie (G))\n",
        "\n",
        "Age – Age of the player in years"
      ],
      "metadata": {
        "id": "Jz1yArA8xS3l"
      }
    },
    {
      "cell_type": "markdown",
      "source": [
        "## Exercises"
      ],
      "metadata": {
        "id": "1DhvBOUNyTvi"
      }
    },
    {
      "cell_type": "code",
      "execution_count": null,
      "metadata": {
        "id": "Fgb4aaLAtuDQ"
      },
      "outputs": [],
      "source": [
        "# Import necessary modules and data\n",
        "import pandas as pd\n",
        "import os\n",
        "import seaborn as sns\n",
        "import matplotlib.pyplot as plt\n",
        "from plotnine import ggplot, aes, geom_boxplot, labs, theme_minimal, theme, element_text, geom_density\n",
        "# Make sure to change Your-Path to your actual file path where your data is located\n",
        "file_path = os.path.join(\"Your-Path\", \"PWHL_Final.csv\")\n",
        "PWHL_Final = pd.read_csv(file_path)"
      ]
    },
    {
      "cell_type": "markdown",
      "source": [
        "The density plot below displays the distribution of goals per game played for each position. The first one is from the plotnine module while the second is from matplotlib. What are the pros and cons for each? Use the plotnine version to answer the following two questions."
      ],
      "metadata": {
        "id": "UEdeneAI0sBX"
      }
    },
    {
      "cell_type": "code",
      "source": [
        "# Plotnine\n",
        "plot_density = (\n",
        "    ggplot(PWHL_Final, aes(x=\"P_Per_GP\", color=\"Pos\", fill=\"Pos\")) +\n",
        "    geom_density(alpha=0.25) +\n",
        "    theme_minimal()\n",
        ")\n",
        "\n",
        "print(plot_density)\n",
        "\n",
        "sns.set_theme(style=\"minimal\")\n",
        "\n",
        "# Matplotlib\n",
        "plt.figure(figsize=(8, 6))\n",
        "sns.kdeplot(data=PWHL_Final, x=\"P_Per_GP\", hue=\"Pos\", fill=True, alpha=0.25)\n",
        "\n",
        "plt.show()"
      ],
      "metadata": {
        "id": "wwMq4hD-0oT7"
      },
      "execution_count": null,
      "outputs": []
    },
    {
      "cell_type": "markdown",
      "source": [
        "1. What would you need to add to the code below to add a title and change the x-axis label to \"Points Per Game Played\"?"
      ],
      "metadata": {
        "id": "QcDrnuUn3NlQ"
      }
    },
    {
      "cell_type": "code",
      "source": [
        "\n",
        "plot_density_labeled = (\n",
        "    ggplot(PWHL_Final, aes(x=\"P_Per_GP\", color=\"Pos\", fill=\"Pos\")) +\n",
        "    geom_density(alpha=0.25) +\n",
        "    theme_minimal()\n",
        ")\n",
        "\n",
        "print(plot_density_labeled)"
      ],
      "metadata": {
        "id": "mxjPAkyY3QO7"
      },
      "execution_count": null,
      "outputs": []
    },
    {
      "cell_type": "markdown",
      "source": [
        "2.  Describe the distribution of the Forward and Defense positions in the density plot above. Make sure to mention shape and skew. Give a possible reason why the Goalie’s curve is concentrated around zero in this visual."
      ],
      "metadata": {
        "id": "QSi6UbQIFPhX"
      }
    },
    {
      "cell_type": "markdown",
      "source": [
        "3. Fill in the code below to create different age groups and filter out goalies from the dataset. Make 3 different age groups: Call ages 22-25 \"youngest\", ages 26-30 \"middle\", and ages 31-36 \"oldest\"."
      ],
      "metadata": {
        "id": "ZWjmLp6DFU8f"
      }
    },
    {
      "cell_type": "code",
      "source": [
        "# Making the age groups and filtering out goalies\n",
        "PWHL_Graph = PWHL_Final.copy()\n",
        "PWHL_Graph[\"Age_Group\"] = pd.cut(\n",
        "\n",
        ")\n",
        "\n",
        "PWHL_Graph = PWHL_Graph[] # Filter out goalies\n",
        "\n",
        "PWHL_Graph[\"Age_Group\"] = pd.Categorical(\n",
        "    PWHL_Graph[\"Age_Group\"], categories = [], ordered = True\n",
        ")\n",
        "\n",
        "position_counts = PWHL_Final[].value_counts()\n",
        "\n",
        "print(position_counts)"
      ],
      "metadata": {
        "id": "K6DUVL8_FY6v"
      },
      "execution_count": null,
      "outputs": []
    },
    {
      "cell_type": "markdown",
      "source": [
        "Use the boxplots below to answer the following question."
      ],
      "metadata": {
        "id": "QWKMJsFVJAfV"
      }
    },
    {
      "cell_type": "code",
      "source": [
        "plot_box_age_group = (\n",
        "    ggplot(PWHL_Graph, aes(x=\"Age_Group\", y=\"P_Per_GP\")) +\n",
        "    geom_boxplot() +\n",
        "    labs(x=\"Age Group\", y=\"Points Per Game Played\", title=\"Points per Game Played by Age Group\") +\n",
        "    theme_minimal() +\n",
        "    theme(plot_title=element_text(ha=\"center\"))\n",
        ")\n",
        "\n",
        "print(plot_box_age_group)"
      ],
      "metadata": {
        "id": "W_kuCx7tJGvI"
      },
      "execution_count": null,
      "outputs": []
    },
    {
      "cell_type": "code",
      "source": [
        "plot_box_position = (\n",
        "    ggplot(PWHL_Graph, aes(x=\"Pos\", y=\"P_Per_GP\")) +\n",
        "    geom_boxplot() +\n",
        "    labs(x=\"Position\", y=\"Points Per Game Played\", title=\"Points per Game Played by Position\") +\n",
        "    theme_minimal() +\n",
        "    theme(plot_title=element_text(ha=\"center\"))\n",
        ")\n",
        "\n",
        "print(plot_box_position)"
      ],
      "metadata": {
        "id": "xLODOpWDW1O_"
      },
      "execution_count": null,
      "outputs": []
    },
    {
      "cell_type": "markdown",
      "source": [
        "4. Brainstorm some ideas on which combinations of age and positions would be ideal for a player to maximize the number of points per game played. Explain."
      ],
      "metadata": {
        "id": "EnPSDeLJXZ5D"
      }
    },
    {
      "cell_type": "markdown",
      "source": [
        "5. Let’s put this all together on one graph to see the trends between the age groups and positions. Create side-by-side boxplots that display the points per game for each group. Only include Forward and Defense positions (since we already showed how few points goalies score). Make sure to add a theme and change the x and y axis labels. Refer to the data description on the second page. Once completed, get into small groups and decide whose graph displays the data the best and why. Try switching the variables between x, y, and color to see if it improves your visualization. Students are given the opportunity to be creative in making their visuals and collborate in groups to find the best fit."
      ],
      "metadata": {
        "id": "S9zcZ_WMXipS"
      }
    },
    {
      "cell_type": "code",
      "source": [],
      "metadata": {
        "id": "7t_gFI2iXh2Y"
      },
      "execution_count": null,
      "outputs": []
    },
    {
      "cell_type": "markdown",
      "source": [
        "6. What trends, if any, do you see in your graph? Does it confirm your original thoughts in question 3? What seems to be the ideal position and age group to maximize goals per game played? Students are given the opportunity to critically analyze a graph they created to ensure they understand their visual."
      ],
      "metadata": {
        "id": "Fmd7WMHiYMSy"
      }
    },
    {
      "cell_type": "markdown",
      "source": [
        "7. Give one reason why you think older forwards have the most points per game compared to the other age groups? Students are given the opportunity to use the survivorship bias definition and apply it to this example."
      ],
      "metadata": {
        "id": "WsBgRPMPYQa8"
      }
    },
    {
      "cell_type": "markdown",
      "source": [
        "8. Reread the summary at the top of the file. What might be a limitation to this dataset. Students can understand there are possible limitations to working with this data."
      ],
      "metadata": {
        "id": "PNyKo8naYWVz"
      }
    }
  ]
}